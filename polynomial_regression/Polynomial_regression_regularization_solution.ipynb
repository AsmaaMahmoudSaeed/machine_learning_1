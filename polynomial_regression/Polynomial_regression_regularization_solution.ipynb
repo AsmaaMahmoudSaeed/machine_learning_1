{
  "nbformat": 4,
  "nbformat_minor": 0,
  "metadata": {
    "kernelspec": {
      "display_name": "Python 3",
      "language": "python",
      "name": "python3"
    },
    "language_info": {
      "codemirror_mode": {
        "name": "ipython",
        "version": 3
      },
      "file_extension": ".py",
      "mimetype": "text/x-python",
      "name": "python",
      "nbconvert_exporter": "python",
      "pygments_lexer": "ipython3",
      "version": "3.7.6"
    },
    "colab": {
      "name": "Copy of Polynomial_regression_regularization.ipynb",
      "provenance": []
    }
  },
  "cells": [
    {
      "cell_type": "markdown",
      "metadata": {
        "id": "eyjewtSBMA95"
      },
      "source": [
        "# Testing and regularization"
      ]
    },
    {
      "cell_type": "code",
      "metadata": {
        "colab": {
          "base_uri": "https://localhost:8080/"
        },
        "id": "y_RXtj1eMCb3",
        "outputId": "8eb5a217-ae37-4a8f-ee3b-c0c0977dfecc"
      },
      "source": [
        "!git clone https://github.com/s7s/machine_learning_1.git\n",
        "%cd  machine_learning_1/polynomial_regression"
      ],
      "execution_count": 1,
      "outputs": [
        {
          "output_type": "stream",
          "name": "stdout",
          "text": [
            "fatal: destination path 'machine_learning_1' already exists and is not an empty directory.\n",
            "/content/machine_learning_1/polynomial_regression\n"
          ]
        }
      ]
    },
    {
      "cell_type": "code",
      "metadata": {
        "id": "YpX56PtFMA-A"
      },
      "source": [
        "import pandas as pd\n",
        "import numpy as np\n",
        "import random\n",
        "import matplotlib.pyplot as plt\n",
        "random.seed(0)"
      ],
      "execution_count": 2,
      "outputs": []
    },
    {
      "cell_type": "markdown",
      "metadata": {
        "id": "WBD0ZY2wMA-B"
      },
      "source": [
        "## Defining our dataset"
      ]
    },
    {
      "cell_type": "code",
      "metadata": {
        "colab": {
          "base_uri": "https://localhost:8080/",
          "height": 269
        },
        "id": "4sDgbZNRMA-C",
        "outputId": "2df6a39c-2317-417f-a511-1dd5c6bd629e"
      },
      "source": [
        "# Our original polynomial is -x^2+x+15\n",
        "coefs = [15,1,-1]\n",
        "\n",
        "def polynomial(coefs, x):\n",
        "    n = len(coefs)\n",
        "    return sum([coefs[i]*x**i for i in range(n)])\n",
        "\n",
        "def draw_polynomial(coefs):\n",
        "    n = len(coefs)\n",
        "    x = np.linspace(-5, 5, 1000)\n",
        "    plt.ylim(-20,20)\n",
        "    plt.plot(x, sum([coefs[i]*x**i for i in range(n)]), linestyle='-', color='black')\n",
        "\n",
        "draw_polynomial(coefs)"
      ],
      "execution_count": 3,
      "outputs": [
        {
          "output_type": "display_data",
          "data": {
            "text/plain": [
              "<Figure size 432x288 with 1 Axes>"
            ],
            "image/png": "[encoded data removed]"
          },
          "metadata": {
            "needs_background": "light"
          }
        }
      ]
    },
    {
      "cell_type": "code",
      "metadata": {
        "id": "WvGqHRFCMA-E"
      },
      "source": [
        "X = []\n",
        "Y = []\n",
        "for i in range(40):\n",
        "    x = random.uniform(-5,5)\n",
        "    y = polynomial(coefs, x) + random.gauss(0,2)\n",
        "    X.append(x)\n",
        "    Y.append(y)\n",
        "X=np.array(X)\n",
        "Y=np.array(Y)"
      ],
      "execution_count": 4,
      "outputs": []
    },
    {
      "cell_type": "code",
      "metadata": {
        "colab": {
          "base_uri": "https://localhost:8080/",
          "height": 282
        },
        "id": "ETQxgGiFMA-E",
        "outputId": "e67f5473-dc12-4e27-e266-eec41ebe7f66"
      },
      "source": [
        "plt.scatter(X, Y)\n",
        "#draw_polynomial(coefs)"
      ],
      "execution_count": 5,
      "outputs": [
        {
          "output_type": "execute_result",
          "data": {
            "text/plain": [
              "<matplotlib.collections.PathCollection at 0x7f328f16fbe0>"
            ]
          },
          "metadata": {},
          "execution_count": 5
        },
        {
          "output_type": "display_data",
          "data": {
            "text/plain": [
              "<Figure size 432x288 with 1 Axes>"
            ],
            "image/png": "[encoded data removed]"
          },
          "metadata": {
            "needs_background": "light"
          }
        }
      ]
    },
    {
      "cell_type": "markdown",
      "metadata": {
        "id": "wLUfmV9iMA-F"
      },
      "source": [
        "## Training a polynomial regression model"
      ]
    },
    {
      "cell_type": "code",
      "metadata": {
        "colab": {
          "base_uri": "https://localhost:8080/"
        },
        "id": "xsNmJ6hoGPjb",
        "outputId": "d3004053-bb96-4fd5-a344-91c25079b22e"
      },
      "source": [
        "for datasample in zip(X,Y):\n",
        "    print(datasample)"
      ],
      "execution_count": 6,
      "outputs": [
        {
          "output_type": "stream",
          "name": "stdout",
          "text": [
            "(3.4442185152504816, 6.685961311021467)\n",
            "(-2.4108324970703663, 4.690236225597948)\n",
            "(0.11274721368608542, 12.205789026637378)\n",
            "(-1.9668727392107255, 11.133217991032268)\n",
            "(-0.23403045847644144, 10.927272159051856)\n",
            "(0.046868558173902564, 12.8584762866286)\n",
            "(-2.1816215560029617, 8.16012255928749)\n",
            "(-2.4949365863755943, 3.5061587527226514)\n",
            "(4.097462559682402, 5.933186396721837)\n",
            "(4.021659504395828, 2.454299054753137)\n",
            "(-1.8985243068066735, 8.956020414039855)\n",
            "(1.8398393191544127, 9.208004401915796)\n",
            "(-0.2785728454728664, 16.36505651355184)\n",
            "(1.1088697344380165, 16.14144978027318)\n",
            "(4.130110532378982, 4.299534274468492)\n",
            "(3.6530992777164, 4.83366913200435)\n",
            "(-2.395076896080406, 7.723543125251446)\n",
            "(-4.8595829983598104, -15.848718674227753)\n",
            "(2.1970468640395415, 9.366124268570305)\n",
            "(1.6815320123185087, 16.070558182542374)\n",
            "(-4.988571806855717, -18.893035332565795)\n",
            "(-2.5608912311286804, 6.043189895391749)\n",
            "(-1.7479563725260991, 11.091071520573042)\n",
            "(0.6751074062067186, 14.272553413210698)\n",
            "(-2.6138407138477984, 9.085321805751548)\n",
            "(-0.5203042856442961, 13.47860807272069)\n",
            "(-4.195541814474646, -7.812998091307244)\n",
            "(4.3283382422690675, 2.748647759010411)\n",
            "(-3.909421540688963, -7.163796336350065)\n",
            "(0.4744091132842376, 14.257854146830486)\n",
            "(3.14466863291336, 3.2664703661537313)\n",
            "(1.0318562796138302, 13.67662422703284)\n",
            "(0.8761706417543635, 12.57404063707232)\n",
            "(-1.1509885402733957, 13.436894195835206)\n",
            "(0.7565101416488851, 14.859288476607356)\n",
            "(-3.132704717444449, 3.3081236367340967)\n",
            "(1.1277317986860673, 13.596584816754236)\n",
            "(-4.1017563880440635, -7.821475002235993)\n",
            "(2.576039219664368, 14.181083579723474)\n",
            "(3.424602231401824, 3.5269925176080537)\n"
          ]
        }
      ]
    },
    {
      "cell_type": "markdown",
      "metadata": {
        "id": "Pze2ZphQMA-G"
      },
      "source": [
        "### Adding columns to our dataset corresponding to $x^2, x^3, \\ldots, x^{200}$"
      ]
    },
    {
      "cell_type": "code",
      "metadata": {
        "id": "c2XZgASOGfVv"
      },
      "source": [
        "from sklearn.preprocessing import PolynomialFeatures\n",
        "def addPoly(X,polyDegree):\n",
        "    poly = PolynomialFeatures(200,include_bias=False)\n",
        "    X=poly.fit_transform(X.reshape(-1, 1))\n",
        "    return X\n",
        "X_poly=addPoly(X,200)"
      ],
      "execution_count": 7,
      "outputs": []
    },
    {
      "cell_type": "code",
      "metadata": {
        "colab": {
          "base_uri": "https://localhost:8080/"
        },
        "id": "kKXdyM7fGzLC",
        "outputId": "7d36a568-4d5d-45dd-b4ef-82a4c5da685c"
      },
      "source": [
        "print(X_poly.shape)\n",
        "print(X_poly[0,:])"
      ],
      "execution_count": 8,
      "outputs": [
        {
          "output_type": "stream",
          "name": "stdout",
          "text": [
            "(40, 200)\n",
            "[3.44421852e+000 1.18626412e+001 4.08575284e+001 1.40722256e+002\n",
            " 4.84678199e+002 1.66933763e+003 5.74956356e+003 1.98027533e+004\n",
            " 6.82050095e+004 2.34912956e+005 8.09091554e+005 2.78668811e+006\n",
            " 9.59796279e+006 3.30574811e+007 1.13857189e+008 3.92149037e+008\n",
            " 1.35064697e+009 4.65192332e+009 1.60222404e+010 5.51840971e+010\n",
            " 1.90066089e+011 6.54629143e+011 2.25468581e+012 7.76563063e+012\n",
            " 2.67465288e+013 9.21208897e+013 3.17284474e+014 1.09279706e+015\n",
            " 3.76383187e+015 1.29634594e+016 4.46489869e+016 1.53780867e+017\n",
            " 5.29654911e+017 1.82424725e+018 6.28310616e+018 2.16403906e+019\n",
            " 7.45342338e+019 2.56712188e+020 8.84172871e+020 3.04528457e+021\n",
            " 1.04886255e+022 3.61251182e+022 1.24422801e+023 4.28539315e+023\n",
            " 1.47598304e+024 5.08360812e+024 1.75090572e+025 6.03050191e+025\n",
            " 2.07703663e+026 7.15376803e+026 2.46391403e+027 8.48625832e+027\n",
            " 2.92285280e+028 1.00669437e+029 3.46727540e+029 1.19420541e+030\n",
            " 4.11310440e+030 1.41664303e+031 4.87922816e+031 1.68051280e+032\n",
            " 5.78805329e+032 1.99353203e+033 6.86615993e+033 2.36485552e+034\n",
            " 8.14507916e+034 2.80534324e+035 9.66221514e+035 3.32787803e+036\n",
            " 1.14619391e+037 3.94774230e+037 1.35968871e+038 4.68306503e+038\n",
            " 1.61294993e+039 5.55535201e+039 1.91338463e+040 6.59011475e+040\n",
            " 2.26977953e+041 7.81761667e+041 2.69255801e+042 9.27375814e+042\n",
            " 3.19408495e+043 1.10011265e+044 3.78902837e+044 1.30502417e+045\n",
            " 4.49478839e+045 1.54810334e+046 5.33200619e+046 1.83645944e+047\n",
            " 6.32516762e+047 2.17852594e+048 7.50331939e+048 2.58430716e+049\n",
            " 8.90091855e+049 3.06567085e+050 1.05588403e+051 3.63669533e+051\n",
            " 1.25255734e+052 4.31408117e+052 1.48586383e+053 5.11763970e+053\n",
            " 1.76262694e+054 6.07087234e+054 2.09094109e+055 7.20165803e+055\n",
            " 2.48040839e+056 8.54306851e+056 2.94241947e+057 1.01343356e+058\n",
            " 3.49048664e+058 1.20219987e+059 4.14063906e+059 1.42612657e+060\n",
            " 4.91189154e+060 1.69176278e+061 5.82680069e+061 2.00687748e+062\n",
            " 6.91212458e+062 2.38068674e+063 8.19960536e+063 2.82412326e+064\n",
            " 9.72689763e+064 3.35015609e+065 1.15386696e+066 3.97416996e+066\n",
            " 1.36879098e+067 4.71441522e+067 1.62374762e+068 5.59254162e+068\n",
            " 1.92619354e+069 6.63423145e+069 2.28497428e+070 7.86995072e+070\n",
            " 2.71058300e+071 9.33584015e+071 3.21546735e+072 1.10747722e+073\n",
            " 3.81439354e+073 1.31376049e+074 4.52487819e+074 1.55846692e+075\n",
            " 5.36770063e+075 1.84875339e+076 6.36751066e+076 2.19310981e+077\n",
            " 7.55354941e+077 2.60160747e+078 8.96050463e+078 3.08619360e+079\n",
            " 1.06295251e+080 3.66104073e+080 1.26094243e+081 4.34296125e+081\n",
            " 1.49581075e+082 5.15189909e+082 1.77442662e+083 6.11151303e+083\n",
            " 2.10493864e+084 7.24986862e+084 2.49701317e+085 8.60025901e+085\n",
            " 2.96211713e+086 1.02021787e+087 3.51385326e+087 1.21024785e+088\n",
            " 4.16835804e+088 1.43567360e+089 4.94477358e+089 1.70308807e+090\n",
            " 5.86580747e+090 2.02031227e+091 6.95839692e+091 2.39662395e+092\n",
            " 8.25449659e+092 2.84302900e+093 9.79201312e+093 3.37258329e+094\n",
            " 1.16159138e+095 4.00077454e+095 1.37795417e+096 4.74597528e+096\n",
            " 1.63461759e+097 5.62998018e+097 1.93908820e+098 6.67864348e+098\n",
            " 2.30027075e+099 7.92263511e+099 2.72872865e+100 9.39833775e+100\n",
            " 3.23699289e+101 1.11489108e+102 3.83992852e+102 1.32255529e+103\n",
            " 4.55516942e+103 1.56889988e+104 5.40363403e+104 1.86112964e+105\n",
            " 6.41013716e+105 2.20779131e+106 7.60411570e+106 2.61902361e+107]\n"
          ]
        }
      ]
    },
    {
      "cell_type": "markdown",
      "metadata": {
        "id": "S8uYLISVMA-H"
      },
      "source": [
        "## Splitting data into training and testing"
      ]
    },
    {
      "cell_type": "code",
      "metadata": {
        "id": "fVnfiOyqMNLg"
      },
      "source": [
        "from sklearn.model_selection import train_test_split\n",
        "X_train, X_test, y_train, y_test = train_test_split(X_poly, Y, test_size=0.2)"
      ],
      "execution_count": 9,
      "outputs": []
    },
    {
      "cell_type": "code",
      "metadata": {
        "id": "WmHYknzXMA-I"
      },
      "source": [
        "from sklearn.metrics import mean_squared_error\n",
        "def display_results(model):\n",
        "    coefs = [model.intercept_]\n",
        "    coefs += list(model.coef_)\n",
        "    ytrain_predict=model.predict(X_train)\n",
        "    ytest_predict=model.predict(X_test)\n",
        "    train_error=np.sqrt(mean_squared_error(y_train,ytrain_predict))\n",
        "    test_error=np.sqrt(mean_squared_error(y_test,ytest_predict))\n",
        "    print(\"Training error (rmse):\", train_error)\n",
        "    print(\"Testing error (rmse):\", test_error)\n",
        "    plt.scatter(X_train[:,0], y_train, marker='o')\n",
        "    plt.scatter(X_test[:,0], y_test, marker='^')\n",
        "    draw_polynomial(coefs)\n",
        "    plt.show()\n",
        "    print(\"Polynomial coefficients\")\n",
        "    print(coefs)"
      ],
      "execution_count": 10,
      "outputs": []
    },
    {
      "cell_type": "markdown",
      "metadata": {
        "id": "G9x4Q5S3MA-I"
      },
      "source": [
        "## Training a polynomial regression model with no regularization"
      ]
    },
    {
      "cell_type": "code",
      "metadata": {
        "id": "QKm7sV7JMA-J",
        "colab": {
          "base_uri": "https://localhost:8080/"
        },
        "outputId": "e2dc325e-07c8-4996-a867-f34c4af3db57"
      },
      "source": [
        "from sklearn.linear_model import LinearRegression\n",
        "model_no_reg = LinearRegression(normalize=True)\n",
        "model_no_reg.fit(X_train, y_train)"
      ],
      "execution_count": 11,
      "outputs": [
        {
          "output_type": "stream",
          "name": "stderr",
          "text": [
            "/usr/local/lib/python3.8/dist-packages/sklearn/linear_model/_base.py:141: FutureWarning: 'normalize' was deprecated in version 1.0 and will be removed in 1.2.\n",
            "If you wish to scale the data, use Pipeline with a StandardScaler in a preprocessing stage. To reproduce the previous behavior:\n",
            "\n",
            "from sklearn.pipeline import make_pipeline\n",
            "\n",
            "model = make_pipeline(StandardScaler(with_mean=False), LinearRegression())\n",
            "\n",
            "If you wish to pass a sample_weight parameter, you need to pass it as a fit parameter to each step of the pipeline as follows:\n",
            "\n",
            "kwargs = {s[0] + '__sample_weight': sample_weight for s in model.steps}\n",
            "model.fit(X, y, **kwargs)\n",
            "\n",
            "\n",
            "  warnings.warn(\n"
          ]
        },
        {
          "output_type": "execute_result",
          "data": {
            "text/plain": [
              "LinearRegression(normalize=True)"
            ]
          },
          "metadata": {},
          "execution_count": 11
        }
      ]
    },
    {
      "cell_type": "code",
      "metadata": {
        "colab": {
          "base_uri": "https://localhost:8080/",
          "height": 358
        },
        "id": "uje8MamakgwD",
        "outputId": "4b0a4eba-beb1-4635-c886-a6b24f3e8df1"
      },
      "source": [
        "display_results(model_no_reg)"
      ],
      "execution_count": 12,
      "outputs": [
        {
          "output_type": "stream",
          "name": "stdout",
          "text": [
            "Training error (rmse): 0.002008391656258021\n",
            "Testing error (rmse): 155674921.74797517\n"
          ]
        },
        {
          "output_type": "display_data",
          "data": {
            "text/plain": [
              "<Figure size 432x288 with 1 Axes>"
            ],
            "image/png": "[encoded data removed]"
          },
          "metadata": {
            "needs_background": "light"
          }
        },
        {
          "output_type": "stream",
          "name": "stdout",
          "text": [
            "Polynomial coefficients\n",
            "[4.767627178161022, 56.369443830735484, 197.70202772113154, -1006.1495294020648, -414.49967062647875, 4513.331864440453, -1553.5686838908637, -7091.121738309521, 3901.9818368042497, 5496.172574080318, -3439.157503461793, -2443.6979053894406, 1597.3405372154073, 663.3191932071192, -438.28439368633104, -110.81218624897313, 73.01226119266593, 10.86625227217845, -7.080157403408581, -0.5335529769240273, 0.3291792938989702, 0.006050351403584694, -0.00015574808217535117, 0.00018733693085228685, -0.0004154340528809818, 6.185352383832684e-06, -4.817981312572e-06, 4.6719434116381814e-07, 3.8779743885854237e-07, 1.3425313263408105e-09, 1.8362487567765217e-08, -1.3597976637391849e-09, 2.7463340638798103e-10, -8.555849378753113e-11, -7.918248382302339e-12, -2.573246306427078e-12, -6.323641585952834e-13, -8.43840682615644e-15, -2.159674224498243e-14, 3.743837299696633e-15, -4.483383952150568e-16, 2.563477700529095e-16, -4.1657028508511535e-18, 1.1185513895879732e-17, 3.897246835955052e-20, 3.6917404833415637e-19, -3.118577134004827e-21, 8.92878136992291e-21, -5.769679641928428e-22, 9.86439956522086e-23, -4.127937840619328e-23, -4.898627527233004e-24, -2.08152697299536e-24, -4.385556338916996e-25, -8.389704703748101e-26, -2.2288828298899545e-26, -2.741636114616803e-27, -9.083862489423499e-28, -6.598645960234232e-29, -3.198953267495781e-29, -4.8044942586059195e-31, -9.869628461557548e-31, 7.038553288299722e-32, -2.6017137652037395e-32, 6.1267371908583006e-33, -5.137946815168578e-34, 3.5586856096331817e-34, -2.3269307222989096e-36, 1.757315729161186e-35, 4.8147799839326666e-37, 7.917544299104011e-37, 3.539357017526674e-38, 3.357405930049261e-38, 1.8077438489180512e-39, 1.361757667398021e-39, 7.948007748276979e-41, 5.340045653897719e-41, 3.190118930872895e-42, 2.038720963822194e-42, 1.1994293609357743e-43, 7.629498546753541e-44, 4.293862261935683e-45, 2.8058720179191205e-45, 1.4706870490087722e-46, 1.016855508429125e-46, 4.810603458142844e-48, 3.645108187602671e-48, 1.5126569489347722e-49, 1.2934226887432382e-49, 4.466343619959254e-51, 4.5541782342491685e-51, 1.2338902560738277e-52, 1.5917499778375982e-52, 3.045792918425956e-54, 5.534156033828831e-54, 5.9989403473086495e-56, 1.9148476342556734e-55, 4.4243242339728995e-58, 6.589323029320609e-57, -4.303316097784866e-59, 2.2554865316724292e-58, -3.287780205672167e-60, 7.676612609878529e-60, -1.763397566681407e-61, 2.6044137702055462e-61, -7.765366455515391e-63, 8.763110289766108e-63, -3.138422355755476e-64, 2.8986897520816096e-64, -1.202939294470253e-65, 9.498111747844437e-66, -4.1120626651227436e-67, 3.075804495998088e-67, -1.3508980571071945e-68, 9.583432406002324e-69, -3.79163262823124e-70, 2.903423413226921e-70, -7.5050058497168e-72, 8.103406955817975e-72, 6.53745345290206e-75, 1.954662108382959e-73, 1.2618541388836185e-74, 3.142855635818394e-75, 1.028667163801247e-75, -4.517705758318644e-77, 6.464286603801295e-77, -8.18778825711825e-78, 3.4924196629597814e-78, -5.661336373514162e-79, 1.7343846694942763e-79, -3.1519243639808382e-80, 8.29761818467618e-81, -1.5955597114884054e-81, 3.85758961216379e-82, -7.586852876308994e-83, 1.741996937592996e-83, -3.5315098111725685e-84, 7.847385645624558e-85, -1.597157761146329e-85, 3.465978604492108e-86, -7.074161174744701e-87, 1.5094806794354276e-87, -3.0758697147111954e-88, 6.51379490016426e-89, -1.3314346073426564e-89, 2.8087057546840095e-90, -5.6922508494221e-91, 1.1848694326270912e-91, -2.425926575327481e-92, 5.035262441766514e-93, -1.026584975270663e-93, 2.1163497968110429e-94, -4.329209974443207e-95, 8.888232816482096e-96, -1.8105462187326729e-96, 3.72563799577958e-97, -7.548142524523283e-98, 1.5421401692198043e-98, -3.1435600292947e-99, 6.443894615653579e-100, -1.3086681388558812e-100, 2.6680922320652133e-101, -5.423737082700653e-102, 1.098261788865451e-102, -2.2309987416631578e-103, 4.5382175372510633e-104, -9.185467121224275e-105, 1.8662236413551644e-105, -3.7797475522675395e-106, 7.660075439587613e-107, -1.5530523376309193e-107, 3.132982769608695e-108, -6.366897999412441e-109, 1.2876050015978397e-109, -2.6051509648550717e-110, 5.26362385518043e-111, -1.065912254795992e-111, 2.157803915516553e-112, -4.344536757159676e-113, 8.790514088670784e-114, -1.768527813767247e-114, 3.5824446642523374e-115, -7.218017484475567e-116, 1.4597898340108043e-116, -2.943581397828232e-117, 5.921519750151009e-118, -1.1941708893283023e-118, 2.4215090831798164e-119, -4.858952573148273e-120, 9.803115698571077e-121, -1.979211795174209e-121, 3.983698875759595e-122, -8.027278998035704e-123, 1.6125820146527072e-123, -3.2586509192188962e-124, 6.57024548666006e-125, -1.324148666140586e-125, 2.6550642615615695e-126, -5.357080104359517e-127, 1.0740219228413529e-127, -2.163176556434393e-128]\n"
          ]
        }
      ]
    },
    {
      "cell_type": "markdown",
      "metadata": {
        "id": "TLTU-3ojMA-J"
      },
      "source": [
        "## Training a polynomial regression model with L1 regularization"
      ]
    },
    {
      "cell_type": "code",
      "metadata": {
        "id": "sBfyPNvMMA-J",
        "colab": {
          "base_uri": "https://localhost:8080/"
        },
        "outputId": "055e4fc8-1bf4-495c-d6e1-7a641343f626"
      },
      "source": [
        "from sklearn import linear_model\n",
        "model_L1_reg = linear_model.Lasso(alpha=0.1,normalize=True)\n",
        "model_L1_reg.fit(X_train, y_train)"
      ],
      "execution_count": 13,
      "outputs": [
        {
          "output_type": "stream",
          "name": "stderr",
          "text": [
            "/usr/local/lib/python3.8/dist-packages/sklearn/linear_model/_base.py:141: FutureWarning: 'normalize' was deprecated in version 1.0 and will be removed in 1.2.\n",
            "If you wish to scale the data, use Pipeline with a StandardScaler in a preprocessing stage. To reproduce the previous behavior:\n",
            "\n",
            "from sklearn.pipeline import make_pipeline\n",
            "\n",
            "model = make_pipeline(StandardScaler(with_mean=False), Lasso())\n",
            "\n",
            "If you wish to pass a sample_weight parameter, you need to pass it as a fit parameter to each step of the pipeline as follows:\n",
            "\n",
            "kwargs = {s[0] + '__sample_weight': sample_weight for s in model.steps}\n",
            "model.fit(X, y, **kwargs)\n",
            "\n",
            "Set parameter alpha to: original_alpha * np.sqrt(n_samples). \n",
            "  warnings.warn(\n"
          ]
        },
        {
          "output_type": "execute_result",
          "data": {
            "text/plain": [
              "Lasso(alpha=0.1, normalize=True)"
            ]
          },
          "metadata": {},
          "execution_count": 13
        }
      ]
    },
    {
      "cell_type": "code",
      "metadata": {
        "colab": {
          "base_uri": "https://localhost:8080/",
          "height": 358
        },
        "id": "LOYlQsU5MA-K",
        "outputId": "ece73d52-145d-417b-ec18-68ba5f4207f0"
      },
      "source": [
        "display_results(model_L1_reg)"
      ],
      "execution_count": 14,
      "outputs": [
        {
          "output_type": "stream",
          "name": "stdout",
          "text": [
            "Training error (rmse): 2.156840657812528\n",
            "Testing error (rmse): 1.8233110897036684\n"
          ]
        },
        {
          "output_type": "display_data",
          "data": {
            "text/plain": [
              "<Figure size 432x288 with 1 Axes>"
            ],
            "image/png": "[encoded data removed]"
          },
          "metadata": {
            "needs_background": "light"
          }
        },
        {
          "output_type": "stream",
          "name": "stdout",
          "text": [
            "Polynomial coefficients\n",
            "[13.419306822086458, 0.449528117465222, -0.8588656161161942, 0.0, -0.0, 0.002126847109079647, -0.0, 0.0, -0.0, 0.0, -0.0, 0.0, -0.0, 0.0, -0.0, 0.0, -0.0, 0.0, -0.0, 0.0, -0.0, 0.0, -0.0, 0.0, -0.0, 0.0, -0.0, 0.0, -0.0, 0.0, -0.0, 0.0, -0.0, 0.0, -0.0, 0.0, -0.0, 0.0, -0.0, 0.0, -0.0, 0.0, -0.0, 0.0, -0.0, 0.0, -0.0, 0.0, -0.0, 0.0, -0.0, 0.0, -0.0, 0.0, -0.0, 0.0, -0.0, 0.0, -0.0, 0.0, -0.0, 0.0, -0.0, 0.0, -0.0, 0.0, -0.0, 0.0, -0.0, 0.0, -0.0, 0.0, -0.0, 0.0, -0.0, 0.0, -0.0, 0.0, -0.0, 0.0, -0.0, 0.0, -0.0, 0.0, -0.0, 0.0, -0.0, 0.0, -0.0, 0.0, -0.0, 0.0, -0.0, 0.0, -0.0, 0.0, -0.0, 0.0, -0.0, 0.0, -0.0, 0.0, -0.0, 0.0, -0.0, 0.0, -0.0, 0.0, -0.0, 0.0, -0.0, 0.0, -0.0, 0.0, -0.0, 0.0, -0.0, 0.0, -0.0, 0.0, -0.0, 0.0, -0.0, 0.0, -0.0, 0.0, -0.0, 0.0, -0.0, 0.0, -0.0, 0.0, -0.0, 0.0, -0.0, 0.0, -0.0, 0.0, -0.0, 0.0, -0.0, 0.0, -0.0, 0.0, -0.0, 0.0, -0.0, 0.0, -0.0, 0.0, -0.0, 0.0, -0.0, 0.0, -0.0, 0.0, -0.0, 0.0, -0.0, 0.0, -0.0, 0.0, -0.0, 0.0, -0.0, 0.0, -0.0, 0.0, -0.0, 0.0, -0.0, 0.0, -0.0, 0.0, -0.0, 0.0, -0.0, 0.0, -0.0, 0.0, -0.0, 0.0, -0.0, 0.0, -0.0, 0.0, -0.0, 0.0, -0.0, 0.0, -0.0, 0.0, -0.0, 0.0, -0.0, 0.0, -0.0, 0.0, -0.0, 0.0, -0.0]\n"
          ]
        }
      ]
    },
    {
      "cell_type": "markdown",
      "metadata": {
        "id": "21v4zgmbMA-K"
      },
      "source": [
        "## Training a polynomial regression model with L2 regularization"
      ]
    },
    {
      "cell_type": "code",
      "metadata": {
        "id": "MrSeiPXPMA-K",
        "colab": {
          "base_uri": "https://localhost:8080/"
        },
        "outputId": "dd67d017-5737-4663-a0bb-ae0fa4321342"
      },
      "source": [
        "from sklearn import linear_model\n",
        "model_L2_reg = linear_model.Ridge(alpha=0.1,normalize=True)\n",
        "model_L2_reg.fit(X_train, y_train)"
      ],
      "execution_count": 15,
      "outputs": [
        {
          "output_type": "stream",
          "name": "stderr",
          "text": [
            "/usr/local/lib/python3.8/dist-packages/sklearn/linear_model/_base.py:141: FutureWarning: 'normalize' was deprecated in version 1.0 and will be removed in 1.2.\n",
            "If you wish to scale the data, use Pipeline with a StandardScaler in a preprocessing stage. To reproduce the previous behavior:\n",
            "\n",
            "from sklearn.pipeline import make_pipeline\n",
            "\n",
            "model = make_pipeline(StandardScaler(with_mean=False), Ridge())\n",
            "\n",
            "If you wish to pass a sample_weight parameter, you need to pass it as a fit parameter to each step of the pipeline as follows:\n",
            "\n",
            "kwargs = {s[0] + '__sample_weight': sample_weight for s in model.steps}\n",
            "model.fit(X, y, **kwargs)\n",
            "\n",
            "Set parameter alpha to: original_alpha * n_samples. \n",
            "  warnings.warn(\n"
          ]
        },
        {
          "output_type": "execute_result",
          "data": {
            "text/plain": [
              "Ridge(alpha=0.1, normalize=True)"
            ]
          },
          "metadata": {},
          "execution_count": 15
        }
      ]
    },
    {
      "cell_type": "code",
      "metadata": {
        "colab": {
          "base_uri": "https://localhost:8080/",
          "height": 358
        },
        "id": "TyLoFFM_MA-L",
        "outputId": "e15ed0c8-d389-47ac-9a6c-2f6392285d35"
      },
      "source": [
        "display_results(model_L2_reg)"
      ],
      "execution_count": 16,
      "outputs": [
        {
          "output_type": "stream",
          "name": "stdout",
          "text": [
            "Training error (rmse): 2.196011231951924\n",
            "Testing error (rmse): 1.710277451764147\n"
          ]
        },
        {
          "output_type": "display_data",
          "data": {
            "text/plain": [
              "<Figure size 432x288 with 1 Axes>"
            ],
            "image/png": "[encoded data removed]"
          },
          "metadata": {
            "needs_background": "light"
          }
        },
        {
          "output_type": "stream",
          "name": "stdout",
          "text": [
            "Polynomial coefficients\n",
            "[12.846792197483165, 0.486810978115904, -0.5762938227890132, 0.013014439960574579, -0.012021728534538218, 0.0006129875648900849, -0.00021592466075347406, 2.8541475878908392e-05, -2.918628283314275e-06, 1.1009640406560661e-06, -3.5759877624714892e-09, 3.6426261539560734e-08, 1.921331029104133e-09, 1.07098891653983e-09, 1.1068273465180779e-10, 2.8190338611234253e-11, 4.862740239163002e-12, 6.400954903264801e-13, 1.9541309440537553e-13, 1.0515850856251435e-14, 7.573836300860715e-15, -2.496266402323893e-17, 2.8910279909398974e-16, -1.3691355893896189e-17, 1.0968249836086777e-17, -8.968701771089073e-19, 4.1526492682262633e-19, -4.508981358490433e-20, 1.5715617160317484e-20, -2.0322945280411467e-21, 5.948081017738038e-22, -8.63775961602293e-23, 2.2514076566304235e-23, -3.541850570532831e-24, 8.5203949078037e-25, -1.4182617820664515e-25, 3.2229887525369844e-26, -5.585855276207316e-27, 1.2181901791434096e-27, -2.1736084600162985e-28, 4.59941948946203e-29, -8.381221623455514e-30, 1.734245620655318e-30, -3.2086625092189617e-31, 6.528873289873313e-32, -1.2212756246299209e-32, 2.4535531829235636e-33, -4.625642773206974e-34, 9.202316037813733e-35, -1.7444706026526744e-35, 3.4439695057869855e-36, -6.5532510692764244e-37, 1.2858643999053975e-37, -2.4527146794924567e-38, 4.788628472445656e-39, -9.146853239092599e-40, 1.7782897261590674e-40, -3.3987499459014225e-41, 6.583380699048736e-42, -1.2581535054333263e-42, 2.42889787268984e-43, -4.638910304455513e-44, 8.92719120712214e-45, -1.703029097175019e-45, 3.2670951820197e-46, -6.222386527501023e-47, 1.1898716479461306e-47, -2.2613373401748706e-48, 4.3094241953556365e-49, -8.168008443163177e-50, 1.5506992905232927e-50, -2.9294076227056487e-51, 5.53761729528427e-52, -1.0418205207112026e-52, 1.9595125937728028e-53, -3.667786811841918e-54, 6.856799706312332e-55, -1.2752243916667564e-55, 2.3660534633404293e-56, -4.364070995048311e-57, 8.018759440965554e-58, -1.4628090710792005e-58, 2.6529477856429025e-59, -4.7660116159328114e-60, 8.484624848833281e-61, -1.4900845557896547e-61, 2.5780330962009986e-62, -4.3635079429733874e-63, 7.183619937965063e-64, -1.1330002565423902e-64, 1.6737977023694288e-65, -2.1835380182950304e-66, 2.0951745812199275e-67, 2.7153661514460617e-69, -9.258031862958765e-69, 3.562070170389567e-69, -1.0467045229365276e-69, 2.7492002425904223e-70, -6.780695079900157e-71, 1.6076052600151402e-71, -3.707109573489368e-72, 8.378632540734264e-73, -1.8644411014721914e-73, 4.0988157737646216e-74, -8.921719601925468e-75, 1.926272251955793e-75, -4.1304180872598787e-76, 8.805473408392965e-77, -1.867750733391243e-77, 3.9445497171226506e-78, -8.298565119202241e-79, 1.7399722219725272e-79, -3.637181136967901e-80, 7.582581841592077e-81, -1.5769118753286082e-81, 3.272223468641736e-82, -6.776495630038638e-83, 1.4007952146248727e-83, -2.8907743094350747e-84, 5.956427812435972e-85, -1.2255729937208553e-85, 2.518389525434407e-86, -5.168645155276677e-87, 1.0595944094995566e-87, -2.1699216466848421e-88, 4.439372470042408e-89, -9.074003653106759e-90, 1.8531142983941036e-90, -3.781409030890644e-91, 7.710365814130954e-92, -1.5710319054542254e-92, 3.1989094980435396e-93, -6.50941336638837e-94, 1.3237932775228896e-94, -2.6906094545647834e-95, 5.46570981768462e-96, -1.1097362589138977e-96, 2.25206903205532e-97, -4.5681744043897926e-98, 9.262167317999338e-99, -1.8771569315399202e-99, 3.8029027122681927e-100, -7.701307755038376e-101, 1.5590354191163643e-101, -3.1549810541274928e-102, 6.382539640887526e-103, -1.29078086711579e-103, 2.6096346793415243e-104, -5.274492413747984e-105, 1.0657631634252644e-105, -2.1529046407806543e-106, 4.347881445492985e-107, -8.778571991263195e-108, 1.772015880618109e-108, -3.5761269290552024e-109, 7.215454131629109e-110, -1.4555377877012976e-110, 2.9355930329126335e-111, -5.919486832342856e-112, 1.19341439261583e-112, -2.405583752370343e-113, 4.8481333735413265e-114, -9.769137712322735e-115, 1.9681949552426863e-115, -3.964721614072624e-116, 7.985320871086349e-117, -1.60808653220484e-117, 3.2379192444140763e-118, -6.518748967305638e-119, 1.312218487880904e-119, -2.641153356030356e-120, 5.315308796005175e-121, -1.0695782505081347e-121, 2.152025955899681e-122, -4.329472194147374e-123, 8.709164180200342e-124, -1.7517558541374875e-124, 3.5231221479411013e-125, -7.08500624056319e-126, 1.4246642461338386e-126, -2.8644803815075974e-127, 5.758925464011357e-128, -1.157712000445811e-128, 2.3271492348786413e-129, -4.677498574919458e-130, 9.40090991971395e-131, -1.889269643182438e-131, 3.7965298817719354e-132, -7.62868139917782e-133, 1.5327906281204342e-133, -3.0795537676111927e-134, 6.186787556784159e-135, -1.2428419543312997e-135, 2.4965524826185634e-136, -5.014646977586693e-137, 1.0071998429419975e-137, -2.02286676418494e-138, 4.0625241412077165e-139, -8.158350406638788e-140, 1.638276245806713e-140, -3.28965934635885e-141]\n"
          ]
        }
      ]
    },
    {
      "cell_type": "markdown",
      "metadata": {
        "id": "1EsLoBMqMA-L"
      },
      "source": [
        "## Viewing the predictions in the testing set"
      ]
    },
    {
      "cell_type": "code",
      "metadata": {
        "id": "TPp6zYZ6MA-L",
        "colab": {
          "base_uri": "https://localhost:8080/",
          "height": 300
        },
        "outputId": "02268ad9-9313-4ecb-be6e-620d48ab03af"
      },
      "source": [
        "import pandas as pd\n",
        "from IPython.display import display\n",
        "predictions={}\n",
        "predictions ['x']=X_test[:,0]\n",
        "predictions ['y']=y_test\n",
        "predictions['No reg'] = model_no_reg.predict(X_test)\n",
        "predictions['L1 reg'] = model_L1_reg.predict(X_test)\n",
        "predictions['L2 reg'] = model_L2_reg.predict(X_test)\n",
        "predictions=pd.DataFrame.from_dict(predictions)\n",
        "display(predictions)"
      ],
      "execution_count": 17,
      "outputs": [
        {
          "output_type": "display_data",
          "data": {
            "text/plain": [
              "          x          y        No reg     L1 reg     L2 reg\n",
              "0  1.127732  13.596585  1.838494e+01  12.837846  12.662823\n",
              "1 -3.909422  -7.163796 -4.403152e+08  -3.406848  -3.694471\n",
              "2  0.675107  14.272553  1.463644e+01  13.331640  12.914359\n",
              "3 -1.747956  11.091072  9.498913e+01   9.974710  10.035334\n",
              "4  0.046869  12.858476  7.739279e+00  13.438489  12.868344\n",
              "5 -2.560891   6.043190  3.026793e+02   6.401276   6.924215\n",
              "6 -2.613841   9.085322  1.359764e+03   6.116905   6.661857\n",
              "7  1.031856  13.676624  1.088640e+01  12.971185  12.736675"
            ],
            "text/html": [
              "\n",
              "  <div id=\"df-d740cb61-b2f3-4a5c-950d-3fed1d4ebde2\">\n",
              "    <div class=\"colab-df-container\">\n",
              "      <div>\n",
              "<style scoped>\n",
              "    .dataframe tbody tr th:only-of-type {\n",
              "        vertical-align: middle;\n",
              "    }\n",
              "\n",
              "    .dataframe tbody tr th {\n",
              "        vertical-align: top;\n",
              "    }\n",
              "\n",
              "    .dataframe thead th {\n",
              "        text-align: right;\n",
              "    }\n",
              "</style>\n",
              "<table border=\"1\" class=\"dataframe\">\n",
              "  <thead>\n",
              "    <tr style=\"text-align: right;\">\n",
              "      <th></th>\n",
              "      <th>x</th>\n",
              "      <th>y</th>\n",
              "      <th>No reg</th>\n",
              "      <th>L1 reg</th>\n",
              "      <th>L2 reg</th>\n",
              "    </tr>\n",
              "  </thead>\n",
              "  <tbody>\n",
              "    <tr>\n",
              "      <th>0</th>\n",
              "      <td>1.127732</td>\n",
              "      <td>13.596585</td>\n",
              "      <td>1.838494e+01</td>\n",
              "      <td>12.837846</td>\n",
              "      <td>12.662823</td>\n",
              "    </tr>\n",
              "    <tr>\n",
              "      <th>1</th>\n",
              "      <td>-3.909422</td>\n",
              "      <td>-7.163796</td>\n",
              "      <td>-4.403152e+08</td>\n",
              "      <td>-3.406848</td>\n",
              "      <td>-3.694471</td>\n",
              "    </tr>\n",
              "    <tr>\n",
              "      <th>2</th>\n",
              "      <td>0.675107</td>\n",
              "      <td>14.272553</td>\n",
              "      <td>1.463644e+01</td>\n",
              "      <td>13.331640</td>\n",
              "      <td>12.914359</td>\n",
              "    </tr>\n",
              "    <tr>\n",
              "      <th>3</th>\n",
              "      <td>-1.747956</td>\n",
              "      <td>11.091072</td>\n",
              "      <td>9.498913e+01</td>\n",
              "      <td>9.974710</td>\n",
              "      <td>10.035334</td>\n",
              "    </tr>\n",
              "    <tr>\n",
              "      <th>4</th>\n",
              "      <td>0.046869</td>\n",
              "      <td>12.858476</td>\n",
              "      <td>7.739279e+00</td>\n",
              "      <td>13.438489</td>\n",
              "      <td>12.868344</td>\n",
              "    </tr>\n",
              "    <tr>\n",
              "      <th>5</th>\n",
              "      <td>-2.560891</td>\n",
              "      <td>6.043190</td>\n",
              "      <td>3.026793e+02</td>\n",
              "      <td>6.401276</td>\n",
              "      <td>6.924215</td>\n",
              "    </tr>\n",
              "    <tr>\n",
              "      <th>6</th>\n",
              "      <td>-2.613841</td>\n",
              "      <td>9.085322</td>\n",
              "      <td>1.359764e+03</td>\n",
              "      <td>6.116905</td>\n",
              "      <td>6.661857</td>\n",
              "    </tr>\n",
              "    <tr>\n",
              "      <th>7</th>\n",
              "      <td>1.031856</td>\n",
              "      <td>13.676624</td>\n",
              "      <td>1.088640e+01</td>\n",
              "      <td>12.971185</td>\n",
              "      <td>12.736675</td>\n",
              "    </tr>\n",
              "  </tbody>\n",
              "</table>\n",
              "</div>\n",
              "      <button class=\"colab-df-convert\" onclick=\"convertToInteractive('df-d740cb61-b2f3-4a5c-950d-3fed1d4ebde2')\"\n",
              "              title=\"Convert this dataframe to an interactive table.\"\n",
              "              style=\"display:none;\">\n",
              "        \n",
              "  <svg xmlns=\"http://www.w3.org/2000/svg\" height=\"24px\"viewBox=\"0 0 24 24\"\n",
              "       width=\"24px\">\n",
              "    <path d=\"M0 0h24v24H0V0z\" fill=\"none\"/>\n",
              "    <path d=\"M18.56 5.44l.94 2.06.94-2.06 2.06-.94-2.06-.94-.94-2.06-.94 2.06-2.06.94zm-11 1L8.5 8.5l.94-2.06 2.06-.94-2.06-.94L8.5 2.5l-.94 2.06-2.06.94zm10 10l.94 2.06.94-2.06 2.06-.94-2.06-.94-.94-2.06-.94 2.06-2.06.94z\"/><path d=\"M17.41 7.96l-1.37-1.37c-.4-.4-.92-.59-1.43-.59-.52 0-1.04.2-1.43.59L10.3 9.45l-7.72 7.72c-.78.78-.78 2.05 0 2.83L4 21.41c.39.39.9.59 1.41.59.51 0 1.02-.2 1.41-.59l7.78-7.78 2.81-2.81c.8-.78.8-2.07 0-2.86zM5.41 20L4 18.59l7.72-7.72 1.47 1.35L5.41 20z\"/>\n",
              "  </svg>\n",
              "      </button>\n",
              "      \n",
              "  <style>\n",
              "    .colab-df-container {\n",
              "      display:flex;\n",
              "      flex-wrap:wrap;\n",
              "      gap: 12px;\n",
              "    }\n",
              "\n",
              "    .colab-df-convert {\n",
              "      background-color: #E8F0FE;\n",
              "      border: none;\n",
              "      border-radius: 50%;\n",
              "      cursor: pointer;\n",
              "      display: none;\n",
              "      fill: #1967D2;\n",
              "      height: 32px;\n",
              "      padding: 0 0 0 0;\n",
              "      width: 32px;\n",
              "    }\n",
              "\n",
              "    .colab-df-convert:hover {\n",
              "      background-color: #E2EBFA;\n",
              "      box-shadow: 0px 1px 2px rgba(60, 64, 67, 0.3), 0px 1px 3px 1px rgba(60, 64, 67, 0.15);\n",
              "      fill: #174EA6;\n",
              "    }\n",
              "\n",
              "    [theme=dark] .colab-df-convert {\n",
              "      background-color: #3B4455;\n",
              "      fill: #D2E3FC;\n",
              "    }\n",
              "\n",
              "    [theme=dark] .colab-df-convert:hover {\n",
              "      background-color: #434B5C;\n",
              "      box-shadow: 0px 1px 3px 1px rgba(0, 0, 0, 0.15);\n",
              "      filter: drop-shadow(0px 1px 2px rgba(0, 0, 0, 0.3));\n",
              "      fill: #FFFFFF;\n",
              "    }\n",
              "  </style>\n",
              "\n",
              "      <script>\n",
              "        const buttonEl =\n",
              "          document.querySelector('#df-d740cb61-b2f3-4a5c-950d-3fed1d4ebde2 button.colab-df-convert');\n",
              "        buttonEl.style.display =\n",
              "          google.colab.kernel.accessAllowed ? 'block' : 'none';\n",
              "\n",
              "        async function convertToInteractive(key) {\n",
              "          const element = document.querySelector('#df-d740cb61-b2f3-4a5c-950d-3fed1d4ebde2');\n",
              "          const dataTable =\n",
              "            await google.colab.kernel.invokeFunction('convertToInteractive',\n",
              "                                                     [key], {});\n",
              "          if (!dataTable) return;\n",
              "\n",
              "          const docLinkHtml = 'Like what you see? Visit the ' +\n",
              "            '<a target=\"_blank\" href=https://colab.research.google.com/notebooks/data_table.ipynb>data table notebook</a>'\n",
              "            + ' to learn more about interactive tables.';\n",
              "          element.innerHTML = '';\n",
              "          dataTable['output_type'] = 'display_data';\n",
              "          await google.colab.output.renderOutput(dataTable, element);\n",
              "          const docLink = document.createElement('div');\n",
              "          docLink.innerHTML = docLinkHtml;\n",
              "          element.appendChild(docLink);\n",
              "        }\n",
              "      </script>\n",
              "    </div>\n",
              "  </div>\n",
              "  "
            ]
          },
          "metadata": {}
        }
      ]
    },
    {
      "cell_type": "markdown",
      "source": [
        "### Real Example (Predict fuel efficiency)"
      ],
      "metadata": {
        "id": "8dghw9lZBujI"
      }
    },
    {
      "cell_type": "code",
      "source": [
        "import matplotlib.pyplot as plt\n",
        "import numpy as np\n",
        "import pandas as pd\n",
        "import seaborn as sns"
      ],
      "metadata": {
        "id": "VHDQkCyRB1Bv"
      },
      "execution_count": 18,
      "outputs": []
    },
    {
      "cell_type": "code",
      "source": [
        "#### Get data\n",
        "\n",
        "url = 'http://archive.ics.uci.edu/ml/machine-learning-databases/auto-mpg/auto-mpg.data'\n",
        "column_names = ['MPG', 'Cylinders', 'Displacement', 'Horsepower', 'Weight',\n",
        "                'Acceleration', 'Model Year', 'Origin']\n",
        "\n",
        "raw_dataset = pd.read_csv(url, names=column_names,\n",
        "                          na_values='?', comment='\\t',\n",
        "                          sep=' ', skipinitialspace=True)\n",
        "\n",
        "dataset = raw_dataset.copy()\n",
        "\n",
        "#### Clean data\n",
        "\n",
        "dataset.isna().sum()\n",
        "\n",
        "dataset = dataset.dropna()\n",
        "\n",
        "dataset.isna().sum()\n",
        "\n",
        "dataset.head()\n",
        "\n",
        "dataset['Origin'] = dataset['Origin'].map({1: 'USA', 2: 'Europe', 3: 'Japan'})\n",
        "\n",
        "dataset = pd.get_dummies(dataset, columns=['Origin'], prefix='', prefix_sep='')\n",
        "\n",
        "dataset.head()"
      ],
      "metadata": {
        "id": "61DLwtWaBKJp",
        "outputId": "ef59c5df-97e6-4477-9dbe-0a887ba746d7",
        "colab": {
          "base_uri": "https://localhost:8080/",
          "height": 206
        }
      },
      "execution_count": 19,
      "outputs": [
        {
          "output_type": "execute_result",
          "data": {
            "text/plain": [
              "    MPG  Cylinders  Displacement  Horsepower  Weight  Acceleration  \\\n",
              "0  18.0          8         307.0       130.0  3504.0          12.0   \n",
              "1  15.0          8         350.0       165.0  3693.0          11.5   \n",
              "2  18.0          8         318.0       150.0  3436.0          11.0   \n",
              "3  16.0          8         304.0       150.0  3433.0          12.0   \n",
              "4  17.0          8         302.0       140.0  3449.0          10.5   \n",
              "\n",
              "   Model Year  Europe  Japan  USA  \n",
              "0          70       0      0    1  \n",
              "1          70       0      0    1  \n",
              "2          70       0      0    1  \n",
              "3          70       0      0    1  \n",
              "4          70       0      0    1  "
            ],
            "text/html": [
              "\n",
              "  <div id=\"df-8e977200-7f62-4234-be06-c57d4aa880a5\">\n",
              "    <div class=\"colab-df-container\">\n",
              "      <div>\n",
              "<style scoped>\n",
              "    .dataframe tbody tr th:only-of-type {\n",
              "        vertical-align: middle;\n",
              "    }\n",
              "\n",
              "    .dataframe tbody tr th {\n",
              "        vertical-align: top;\n",
              "    }\n",
              "\n",
              "    .dataframe thead th {\n",
              "        text-align: right;\n",
              "    }\n",
              "</style>\n",
              "<table border=\"1\" class=\"dataframe\">\n",
              "  <thead>\n",
              "    <tr style=\"text-align: right;\">\n",
              "      <th></th>\n",
              "      <th>MPG</th>\n",
              "      <th>Cylinders</th>\n",
              "      <th>Displacement</th>\n",
              "      <th>Horsepower</th>\n",
              "      <th>Weight</th>\n",
              "      <th>Acceleration</th>\n",
              "      <th>Model Year</th>\n",
              "      <th>Europe</th>\n",
              "      <th>Japan</th>\n",
              "      <th>USA</th>\n",
              "    </tr>\n",
              "  </thead>\n",
              "  <tbody>\n",
              "    <tr>\n",
              "      <th>0</th>\n",
              "      <td>18.0</td>\n",
              "      <td>8</td>\n",
              "      <td>307.0</td>\n",
              "      <td>130.0</td>\n",
              "      <td>3504.0</td>\n",
              "      <td>12.0</td>\n",
              "      <td>70</td>\n",
              "      <td>0</td>\n",
              "      <td>0</td>\n",
              "      <td>1</td>\n",
              "    </tr>\n",
              "    <tr>\n",
              "      <th>1</th>\n",
              "      <td>15.0</td>\n",
              "      <td>8</td>\n",
              "      <td>350.0</td>\n",
              "      <td>165.0</td>\n",
              "      <td>3693.0</td>\n",
              "      <td>11.5</td>\n",
              "      <td>70</td>\n",
              "      <td>0</td>\n",
              "      <td>0</td>\n",
              "      <td>1</td>\n",
              "    </tr>\n",
              "    <tr>\n",
              "      <th>2</th>\n",
              "      <td>18.0</td>\n",
              "      <td>8</td>\n",
              "      <td>318.0</td>\n",
              "      <td>150.0</td>\n",
              "      <td>3436.0</td>\n",
              "      <td>11.0</td>\n",
              "      <td>70</td>\n",
              "      <td>0</td>\n",
              "      <td>0</td>\n",
              "      <td>1</td>\n",
              "    </tr>\n",
              "    <tr>\n",
              "      <th>3</th>\n",
              "      <td>16.0</td>\n",
              "      <td>8</td>\n",
              "      <td>304.0</td>\n",
              "      <td>150.0</td>\n",
              "      <td>3433.0</td>\n",
              "      <td>12.0</td>\n",
              "      <td>70</td>\n",
              "      <td>0</td>\n",
              "      <td>0</td>\n",
              "      <td>1</td>\n",
              "    </tr>\n",
              "    <tr>\n",
              "      <th>4</th>\n",
              "      <td>17.0</td>\n",
              "      <td>8</td>\n",
              "      <td>302.0</td>\n",
              "      <td>140.0</td>\n",
              "      <td>3449.0</td>\n",
              "      <td>10.5</td>\n",
              "      <td>70</td>\n",
              "      <td>0</td>\n",
              "      <td>0</td>\n",
              "      <td>1</td>\n",
              "    </tr>\n",
              "  </tbody>\n",
              "</table>\n",
              "</div>\n",
              "      <button class=\"colab-df-convert\" onclick=\"convertToInteractive('df-8e977200-7f62-4234-be06-c57d4aa880a5')\"\n",
              "              title=\"Convert this dataframe to an interactive table.\"\n",
              "              style=\"display:none;\">\n",
              "        \n",
              "  <svg xmlns=\"http://www.w3.org/2000/svg\" height=\"24px\"viewBox=\"0 0 24 24\"\n",
              "       width=\"24px\">\n",
              "    <path d=\"M0 0h24v24H0V0z\" fill=\"none\"/>\n",
              "    <path d=\"M18.56 5.44l.94 2.06.94-2.06 2.06-.94-2.06-.94-.94-2.06-.94 2.06-2.06.94zm-11 1L8.5 8.5l.94-2.06 2.06-.94-2.06-.94L8.5 2.5l-.94 2.06-2.06.94zm10 10l.94 2.06.94-2.06 2.06-.94-2.06-.94-.94-2.06-.94 2.06-2.06.94z\"/><path d=\"M17.41 7.96l-1.37-1.37c-.4-.4-.92-.59-1.43-.59-.52 0-1.04.2-1.43.59L10.3 9.45l-7.72 7.72c-.78.78-.78 2.05 0 2.83L4 21.41c.39.39.9.59 1.41.59.51 0 1.02-.2 1.41-.59l7.78-7.78 2.81-2.81c.8-.78.8-2.07 0-2.86zM5.41 20L4 18.59l7.72-7.72 1.47 1.35L5.41 20z\"/>\n",
              "  </svg>\n",
              "      </button>\n",
              "      \n",
              "  <style>\n",
              "    .colab-df-container {\n",
              "      display:flex;\n",
              "      flex-wrap:wrap;\n",
              "      gap: 12px;\n",
              "    }\n",
              "\n",
              "    .colab-df-convert {\n",
              "      background-color: #E8F0FE;\n",
              "      border: none;\n",
              "      border-radius: 50%;\n",
              "      cursor: pointer;\n",
              "      display: none;\n",
              "      fill: #1967D2;\n",
              "      height: 32px;\n",
              "      padding: 0 0 0 0;\n",
              "      width: 32px;\n",
              "    }\n",
              "\n",
              "    .colab-df-convert:hover {\n",
              "      background-color: #E2EBFA;\n",
              "      box-shadow: 0px 1px 2px rgba(60, 64, 67, 0.3), 0px 1px 3px 1px rgba(60, 64, 67, 0.15);\n",
              "      fill: #174EA6;\n",
              "    }\n",
              "\n",
              "    [theme=dark] .colab-df-convert {\n",
              "      background-color: #3B4455;\n",
              "      fill: #D2E3FC;\n",
              "    }\n",
              "\n",
              "    [theme=dark] .colab-df-convert:hover {\n",
              "      background-color: #434B5C;\n",
              "      box-shadow: 0px 1px 3px 1px rgba(0, 0, 0, 0.15);\n",
              "      filter: drop-shadow(0px 1px 2px rgba(0, 0, 0, 0.3));\n",
              "      fill: #FFFFFF;\n",
              "    }\n",
              "  </style>\n",
              "\n",
              "      <script>\n",
              "        const buttonEl =\n",
              "          document.querySelector('#df-8e977200-7f62-4234-be06-c57d4aa880a5 button.colab-df-convert');\n",
              "        buttonEl.style.display =\n",
              "          google.colab.kernel.accessAllowed ? 'block' : 'none';\n",
              "\n",
              "        async function convertToInteractive(key) {\n",
              "          const element = document.querySelector('#df-8e977200-7f62-4234-be06-c57d4aa880a5');\n",
              "          const dataTable =\n",
              "            await google.colab.kernel.invokeFunction('convertToInteractive',\n",
              "                                                     [key], {});\n",
              "          if (!dataTable) return;\n",
              "\n",
              "          const docLinkHtml = 'Like what you see? Visit the ' +\n",
              "            '<a target=\"_blank\" href=https://colab.research.google.com/notebooks/data_table.ipynb>data table notebook</a>'\n",
              "            + ' to learn more about interactive tables.';\n",
              "          element.innerHTML = '';\n",
              "          dataTable['output_type'] = 'display_data';\n",
              "          await google.colab.output.renderOutput(dataTable, element);\n",
              "          const docLink = document.createElement('div');\n",
              "          docLink.innerHTML = docLinkHtml;\n",
              "          element.appendChild(docLink);\n",
              "        }\n",
              "      </script>\n",
              "    </div>\n",
              "  </div>\n",
              "  "
            ]
          },
          "metadata": {},
          "execution_count": 19
        }
      ]
    },
    {
      "cell_type": "code",
      "source": [
        "train_dataset = dataset.sample(frac=0.8, random_state=0)\n",
        "test_dataset = dataset.drop(train_dataset.index)"
      ],
      "metadata": {
        "id": "EgNCv8bXCpHP"
      },
      "execution_count": 20,
      "outputs": []
    },
    {
      "cell_type": "markdown",
      "source": [
        "#### normal linear regression"
      ],
      "metadata": {
        "id": "m6JusuteM1wQ"
      }
    },
    {
      "cell_type": "code",
      "source": [
        "# normal linear regression\n",
        "X_train=train_dataset[['Horsepower']]\n",
        "y_train=train_dataset[['MPG']]\n",
        "X_test=test_dataset[['Horsepower']]\n",
        "y_test=test_dataset[['MPG']]\n",
        "\n",
        "model_no_reg = LinearRegression(normalize=True)\n",
        "model_no_reg.fit(X_train, y_train)\n",
        "ytest_predict=model_no_reg.predict(X_test)\n",
        "test_error=np.sqrt(mean_squared_error(y_test,ytest_predict))\n",
        "print(test_error)"
      ],
      "metadata": {
        "id": "C6fqteKpKcDs",
        "outputId": "d010b4a2-db76-41d3-e576-00b49d2d0367",
        "colab": {
          "base_uri": "https://localhost:8080/"
        }
      },
      "execution_count": 21,
      "outputs": [
        {
          "output_type": "stream",
          "name": "stdout",
          "text": [
            "4.5639128558497175\n"
          ]
        },
        {
          "output_type": "stream",
          "name": "stderr",
          "text": [
            "/usr/local/lib/python3.8/dist-packages/sklearn/linear_model/_base.py:141: FutureWarning: 'normalize' was deprecated in version 1.0 and will be removed in 1.2.\n",
            "If you wish to scale the data, use Pipeline with a StandardScaler in a preprocessing stage. To reproduce the previous behavior:\n",
            "\n",
            "from sklearn.pipeline import make_pipeline\n",
            "\n",
            "model = make_pipeline(StandardScaler(with_mean=False), LinearRegression())\n",
            "\n",
            "If you wish to pass a sample_weight parameter, you need to pass it as a fit parameter to each step of the pipeline as follows:\n",
            "\n",
            "kwargs = {s[0] + '__sample_weight': sample_weight for s in model.steps}\n",
            "model.fit(X, y, **kwargs)\n",
            "\n",
            "\n",
            "  warnings.warn(\n"
          ]
        }
      ]
    },
    {
      "cell_type": "markdown",
      "source": [
        "#### using 50th order"
      ],
      "metadata": {
        "id": "eR4xFbd_M8ed"
      }
    },
    {
      "cell_type": "code",
      "source": [
        "X_train=train_dataset[['Horsepower']]\n",
        "y_train=train_dataset[['MPG']]\n",
        "\n",
        "X_test=test_dataset[['Horsepower']]\n",
        "y_test=test_dataset[['MPG']]\n",
        "\n",
        "from sklearn.preprocessing import PolynomialFeatures\n",
        "def addPoly(X,polyDegree):\n",
        "    poly = PolynomialFeatures(polyDegree,include_bias=False)\n",
        "    X=poly.fit_transform(X)\n",
        "    return X\n",
        "X_trainPoly=addPoly(X_train,50)\n",
        "X_testPoly=addPoly(X_test,50)"
      ],
      "metadata": {
        "id": "3ZlQ5TqTCMgB"
      },
      "execution_count": 22,
      "outputs": []
    },
    {
      "cell_type": "markdown",
      "source": [
        "##### no regularization"
      ],
      "metadata": {
        "id": "hl6_zfNONDum"
      }
    },
    {
      "cell_type": "code",
      "source": [
        "# no regularization\n",
        "from sklearn.linear_model import LinearRegression\n",
        "model_no_reg = LinearRegression(normalize=True)\n",
        "model_no_reg.fit(X_trainPoly, y_train)\n",
        "ytest_predict=model_no_reg.predict(X_testPoly)\n",
        "test_error=np.sqrt(mean_squared_error(y_test,ytest_predict))\n",
        "print(test_error)"
      ],
      "metadata": {
        "id": "DqJwiQ5zDFiO",
        "outputId": "a7e6565d-2437-4742-c0fa-9589c3298b86",
        "colab": {
          "base_uri": "https://localhost:8080/"
        }
      },
      "execution_count": 23,
      "outputs": [
        {
          "output_type": "stream",
          "name": "stdout",
          "text": [
            "62673.21197656972\n"
          ]
        },
        {
          "output_type": "stream",
          "name": "stderr",
          "text": [
            "/usr/local/lib/python3.8/dist-packages/sklearn/linear_model/_base.py:141: FutureWarning: 'normalize' was deprecated in version 1.0 and will be removed in 1.2.\n",
            "If you wish to scale the data, use Pipeline with a StandardScaler in a preprocessing stage. To reproduce the previous behavior:\n",
            "\n",
            "from sklearn.pipeline import make_pipeline\n",
            "\n",
            "model = make_pipeline(StandardScaler(with_mean=False), LinearRegression())\n",
            "\n",
            "If you wish to pass a sample_weight parameter, you need to pass it as a fit parameter to each step of the pipeline as follows:\n",
            "\n",
            "kwargs = {s[0] + '__sample_weight': sample_weight for s in model.steps}\n",
            "model.fit(X, y, **kwargs)\n",
            "\n",
            "\n",
            "  warnings.warn(\n"
          ]
        }
      ]
    },
    {
      "cell_type": "markdown",
      "source": [
        "##### lasso regularization"
      ],
      "metadata": {
        "id": "fez5Ol6sNJXr"
      }
    },
    {
      "cell_type": "code",
      "source": [
        "# lasso regularization\n",
        "from sklearn import linear_model\n",
        "model_L1_reg = linear_model.Lasso(alpha=0.01,normalize=True)\n",
        "model_L1_reg.fit(X_trainPoly, y_train)\n",
        "ytest_predict=model_L1_reg.predict(X_testPoly)\n",
        "test_error=np.sqrt(mean_squared_error(y_test,ytest_predict))\n",
        "print(test_error)"
      ],
      "metadata": {
        "id": "uNSDrAYUCT2t",
        "outputId": "22528921-fe49-4cef-c470-ff50ea54cc50",
        "colab": {
          "base_uri": "https://localhost:8080/"
        }
      },
      "execution_count": 24,
      "outputs": [
        {
          "output_type": "stream",
          "name": "stdout",
          "text": [
            "4.020606257556758\n"
          ]
        },
        {
          "output_type": "stream",
          "name": "stderr",
          "text": [
            "/usr/local/lib/python3.8/dist-packages/sklearn/linear_model/_base.py:141: FutureWarning: 'normalize' was deprecated in version 1.0 and will be removed in 1.2.\n",
            "If you wish to scale the data, use Pipeline with a StandardScaler in a preprocessing stage. To reproduce the previous behavior:\n",
            "\n",
            "from sklearn.pipeline import make_pipeline\n",
            "\n",
            "model = make_pipeline(StandardScaler(with_mean=False), Lasso())\n",
            "\n",
            "If you wish to pass a sample_weight parameter, you need to pass it as a fit parameter to each step of the pipeline as follows:\n",
            "\n",
            "kwargs = {s[0] + '__sample_weight': sample_weight for s in model.steps}\n",
            "model.fit(X, y, **kwargs)\n",
            "\n",
            "Set parameter alpha to: original_alpha * np.sqrt(n_samples). \n",
            "  warnings.warn(\n"
          ]
        }
      ]
    },
    {
      "cell_type": "markdown",
      "source": [
        "##### ridge regularization"
      ],
      "metadata": {
        "id": "ChpoqToZNPnx"
      }
    },
    {
      "cell_type": "code",
      "source": [
        "# ridge regularization\n",
        "from sklearn import linear_model\n",
        "model_L2_reg = linear_model.Ridge(alpha=0.01,normalize=True)\n",
        "model_L2_reg.fit(X_trainPoly, y_train)\n",
        "ytest_predict=model_L2_reg.predict(X_testPoly)\n",
        "test_error=np.sqrt(mean_squared_error(y_test,ytest_predict))\n",
        "print(test_error)"
      ],
      "metadata": {
        "id": "iBucMZueDGDA",
        "outputId": "333c807f-a932-403f-f66f-59e841c50878",
        "colab": {
          "base_uri": "https://localhost:8080/"
        }
      },
      "execution_count": 25,
      "outputs": [
        {
          "output_type": "stream",
          "name": "stdout",
          "text": [
            "3.7867550327271036\n"
          ]
        },
        {
          "output_type": "stream",
          "name": "stderr",
          "text": [
            "/usr/local/lib/python3.8/dist-packages/sklearn/linear_model/_base.py:141: FutureWarning: 'normalize' was deprecated in version 1.0 and will be removed in 1.2.\n",
            "If you wish to scale the data, use Pipeline with a StandardScaler in a preprocessing stage. To reproduce the previous behavior:\n",
            "\n",
            "from sklearn.pipeline import make_pipeline\n",
            "\n",
            "model = make_pipeline(StandardScaler(with_mean=False), Ridge())\n",
            "\n",
            "If you wish to pass a sample_weight parameter, you need to pass it as a fit parameter to each step of the pipeline as follows:\n",
            "\n",
            "kwargs = {s[0] + '__sample_weight': sample_weight for s in model.steps}\n",
            "model.fit(X, y, **kwargs)\n",
            "\n",
            "Set parameter alpha to: original_alpha * n_samples. \n",
            "  warnings.warn(\n"
          ]
        }
      ]
    },
    {
      "cell_type": "code",
      "source": [],
      "metadata": {
        "id": "3kmWCSSFFkEJ"
      },
      "execution_count": 25,
      "outputs": []
    }
  ]
}